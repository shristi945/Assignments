{
 "cells": [
  {
   "cell_type": "markdown",
   "metadata": {
    "colab_type": "text",
    "id": "aeL1dWVIuEuH"
   },
   "source": [
    "# Nearest school for houses"
   ]
  },
  {
   "cell_type": "code",
   "execution_count": 0,
   "metadata": {
    "colab": {},
    "colab_type": "code",
    "id": "r_y-oSmz6WDC"
   },
   "outputs": [],
   "source": [
    "import numpy as np\n",
    "import pandas as pd\n",
    "import random \n"
   ]
  },
  {
   "cell_type": "code",
   "execution_count": 0,
   "metadata": {
    "colab": {},
    "colab_type": "code",
    "id": "XWTDckv-lNEa"
   },
   "outputs": [],
   "source": [
    "def haversine(lon1, lat1, lon2, lat2):\n",
    "    \n",
    "    lon1, lat1, lon2, lat2 = map(np.radians, [lon1, lat1, lon2, lat2])\n",
    "\n",
    "    dlon = lon2 - lon1\n",
    "    dlat = lat2 - lat1\n",
    "\n",
    "    a = np.sin(dlat/2.0)**2 + np.cos(lat1) * np.cos(lat2) * np.sin(dlon/2.0)**2  \n",
    "\n",
    "    c = 2 * np.arcsin(np.sqrt(a))\n",
    "    km = 6367 * c\n",
    "    return km"
   ]
  },
  {
   "cell_type": "code",
   "execution_count": 0,
   "metadata": {
    "colab": {},
    "colab_type": "code",
    "id": "TA-yRNMVlEjg"
   },
   "outputs": [],
   "source": [
    "def find_best_school(houses, schools):\n",
    "  data = []\n",
    "  for house in houses: \n",
    "    for index, school in enumerate(schools):\n",
    "      data.append([house[0], house[1], school[0], school[1], index])    # for all the possible combination between houses and schools    \n",
    "  \n",
    "  d = pd.DataFrame(data, columns=[\"lo1\",\"la1\",\"lo2\", \"la2\", \"index\"] )  #Creating common dataframe for all combinations\n",
    "  distance = haversine(d['lo1'],d['la1'],d['lo2'],d['la2'])\n",
    "  d['distance'] = distance\n",
    "  r = d.loc[d.groupby(['lo1','la1'], sort=False)['distance'].idxmin()]  #finding out minimum distance \n",
    "  result = list(r['index'])                                             #index ----> schools coordinate's index\n",
    "  return result                                                         "
   ]
  },
  {
   "cell_type": "code",
   "execution_count": 44,
   "metadata": {
    "colab": {
     "base_uri": "https://localhost:8080/",
     "height": 51
    },
    "colab_type": "code",
    "id": "yCKxK3-4cBf7",
    "outputId": "4f2a2e00-1b97-4fb0-b5dd-a77a2c73947f"
   },
   "outputs": [
    {
     "name": "stdout",
     "output_type": "stream",
     "text": [
      "[0, 1, 2, 0]\n",
      "Basic Score: 100.00%\n"
     ]
    }
   ],
   "source": [
    "def basic_test(my_function): \n",
    "  houses = [(28.1, 78),(13,78),(13,26), (28,76) ]\n",
    "  schools = [(28, 77),(13,77),(20,6)]\n",
    "  answer = [0,1,2,0]\n",
    "  output = my_function(houses, schools)\n",
    "  print(output)\n",
    "  try:\n",
    "    print(\"Basic Score: {:0.2%}\".format((np.array(answer)==output).mean()))\n",
    "  except Exception as e:\n",
    "    print(e)\n",
    "    \n",
    "    \n",
    "basic_test(find_best_school)"
   ]
  },
  {
   "cell_type": "code",
   "execution_count": 0,
   "metadata": {
    "colab": {},
    "colab_type": "code",
    "id": "K4zaO_b9cWxE"
   },
   "outputs": [],
   "source": []
  }
 ],
 "metadata": {
  "colab": {
   "name": "StackBox Python Assignment- globalschool",
   "provenance": []
  },
  "kernelspec": {
   "display_name": "Python 3",
   "language": "python",
   "name": "python3"
  },
  "language_info": {
   "codemirror_mode": {
    "name": "ipython",
    "version": 3
   },
   "file_extension": ".py",
   "mimetype": "text/x-python",
   "name": "python",
   "nbconvert_exporter": "python",
   "pygments_lexer": "ipython3",
   "version": "3.7.1"
  }
 },
 "nbformat": 4,
 "nbformat_minor": 1
}
